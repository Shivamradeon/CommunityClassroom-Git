{
  "nbformat": 4,
  "nbformat_minor": 0,
  "metadata": {
    "colab": {
      "provenance": [],
      "authorship_tag": "ABX9TyOKBSTXqJoYr/1wddkCvqut",
      "include_colab_link": true
    },
    "kernelspec": {
      "name": "python3",
      "display_name": "Python 3"
    },
    "language_info": {
      "name": "python"
    }
  },
  "cells": [
    {
      "cell_type": "markdown",
      "metadata": {
        "id": "view-in-github",
        "colab_type": "text"
      },
      "source": [
        "<a href=\"https://colab.research.google.com/github/Shivamradeon/CommunityClassroom-Git/blob/master/DSA.ipynb\" target=\"_parent\"><img src=\"https://colab.research.google.com/assets/colab-badge.svg\" alt=\"Open In Colab\"/></a>"
      ]
    },
    {
      "cell_type": "code",
      "execution_count": null,
      "metadata": {
        "id": "uLKYUvuRLF1C"
      },
      "outputs": [],
      "source": [
        "# Assingment 3.1: WAP to add three numbers from and print result"
      ]
    },
    {
      "cell_type": "code",
      "source": [
        "a = int(input(\"Enter First Number: \"))\n",
        "b = int(input(\"Enter Second Number: \"))\n",
        "c = int(input(\"enter Third Number: \"))\n",
        "print((a+b+c))"
      ],
      "metadata": {
        "colab": {
          "base_uri": "https://localhost:8080/"
        },
        "id": "jBj4GOjOTqm5",
        "outputId": "82d2330b-ef39-4907-8e8d-bb916cc2c819"
      },
      "execution_count": null,
      "outputs": [
        {
          "output_type": "stream",
          "name": "stdout",
          "text": [
            "Enter First Number: 45\n",
            "Enter Second Number: 56\n",
            "enter Third Number: 67\n",
            "168\n"
          ]
        }
      ]
    },
    {
      "cell_type": "code",
      "source": [
        "# Assingment 3.2: WAP to concatinate three strings, inputs from user and print"
      ],
      "metadata": {
        "id": "L4VE4FM4UEsa"
      },
      "execution_count": null,
      "outputs": []
    },
    {
      "cell_type": "code",
      "source": [
        "s1 = input(\"Enter First String: \")\n",
        "s2 = input(\"Enter second String: \")\n",
        "s3 = input(\"Enter Third String: \")\n",
        "print(s1 + s2 +  s3)"
      ],
      "metadata": {
        "colab": {
          "base_uri": "https://localhost:8080/"
        },
        "id": "Rt9AzStsU66j",
        "outputId": "310e2ac6-3e81-4efd-f6d2-89a442355013"
      },
      "execution_count": null,
      "outputs": [
        {
          "output_type": "stream",
          "name": "stdout",
          "text": [
            "Enter First String: OM\n",
            "Enter second String: Namaah\n",
            "Enter Third String: Shivaay\n",
            "OMNamaahShivaay\n"
          ]
        }
      ]
    },
    {
      "cell_type": "code",
      "source": [
        "# 4.1 : Input two numbers from user and compare them."
      ],
      "metadata": {
        "id": "iIiAgT_iZ6oU"
      },
      "execution_count": null,
      "outputs": []
    },
    {
      "cell_type": "code",
      "source": [
        "a = int(input(\"enter first no: \"))\n",
        "b = int(input(\"enter second no: \"))\n",
        "if a > b:\n",
        "  print(a, \">\", b)\n",
        "else:\n",
        "  print(a, \"<\", b)"
      ],
      "metadata": {
        "colab": {
          "base_uri": "https://localhost:8080/"
        },
        "id": "7vovCJHjceMB",
        "outputId": "f187b86e-bf41-405c-e386-8044d27ea9d6"
      },
      "execution_count": null,
      "outputs": [
        {
          "output_type": "stream",
          "name": "stdout",
          "text": [
            "enter first no: 23\n",
            "enter second no: 21\n",
            "23 > 21\n"
          ]
        }
      ]
    },
    {
      "cell_type": "code",
      "source": [
        "# 4.2 : WAP to check whether a number is odd or even."
      ],
      "metadata": {
        "id": "gjMU4jOtc_hX"
      },
      "execution_count": null,
      "outputs": []
    },
    {
      "cell_type": "code",
      "source": [
        "num = int(input(\"Enter the Required No: \"))\n",
        "if num % 2 == 0:\n",
        "  print( num, \"Even Number\")\n",
        "else:\n",
        "  print( num, \"Odd Number\")"
      ],
      "metadata": {
        "colab": {
          "base_uri": "https://localhost:8080/"
        },
        "id": "4KAxNspy3UcD",
        "outputId": "ed6152c2-f251-453a-e3a3-4005547f65fa"
      },
      "execution_count": null,
      "outputs": [
        {
          "output_type": "stream",
          "name": "stdout",
          "text": [
            "Enter the Required No: 68\n",
            "68 Even Number\n"
          ]
        }
      ]
    },
    {
      "cell_type": "code",
      "source": [
        "num = 10\n",
        "while num > 0:\n",
        "  print(num * '*')\n",
        "  num -= 1\n",
        "  x = 20\n",
        "y = 30"
      ],
      "metadata": {
        "colab": {
          "base_uri": "https://localhost:8080/"
        },
        "id": "uQic6khW6H9D",
        "outputId": "63b883eb-da9a-449d-b566-f4dd518447c1"
      },
      "execution_count": null,
      "outputs": [
        {
          "output_type": "stream",
          "name": "stdout",
          "text": [
            "**********\n",
            "*********\n",
            "********\n",
            "*******\n",
            "******\n",
            "*****\n",
            "****\n",
            "***\n",
            "**\n",
            "*\n"
          ]
        }
      ]
    },
    {
      "cell_type": "code",
      "source": [
        "for i in range(1, 11):\n",
        "  print(5, \"*\", i, \"=\", i*5)"
      ],
      "metadata": {
        "colab": {
          "base_uri": "https://localhost:8080/"
        },
        "id": "zOVdfJz4-nS4",
        "outputId": "9afd4a2e-9a20-429a-b548-f6a59c2a44ee"
      },
      "execution_count": null,
      "outputs": [
        {
          "output_type": "stream",
          "name": "stdout",
          "text": [
            "5 * 1 = 5\n",
            "5 * 2 = 10\n",
            "5 * 3 = 15\n",
            "5 * 4 = 20\n",
            "5 * 5 = 25\n",
            "5 * 6 = 30\n",
            "5 * 7 = 35\n",
            "5 * 8 = 40\n",
            "5 * 9 = 45\n",
            "5 * 10 = 50\n"
          ]
        }
      ]
    },
    {
      "cell_type": "code",
      "source": [
        "s = 0\n",
        "for num in range(1, 11):\n",
        "  s += num\n",
        "print(f\"Sum of First 10 Natural Numbers is: {s}\")"
      ],
      "metadata": {
        "colab": {
          "base_uri": "https://localhost:8080/"
        },
        "id": "JKLSnYNMAoXi",
        "outputId": "1d607740-7dd1-4ae3-ae01-79061bec48f3"
      },
      "execution_count": null,
      "outputs": [
        {
          "output_type": "stream",
          "name": "stdout",
          "text": [
            "Sum of First 10 Natural Numbers is: 55\n"
          ]
        }
      ]
    },
    {
      "cell_type": "code",
      "source": [
        "for i in range(1, 11):\n",
        "  print(7, \"*\", i, \"=\", i*7)"
      ],
      "metadata": {
        "colab": {
          "base_uri": "https://localhost:8080/"
        },
        "id": "9byBaIuMBTXn",
        "outputId": "e922b06b-87e3-4940-a8c2-3408d47d7d42"
      },
      "execution_count": null,
      "outputs": [
        {
          "output_type": "stream",
          "name": "stdout",
          "text": [
            "7 * 1 = 7\n",
            "7 * 2 = 14\n",
            "7 * 3 = 21\n",
            "7 * 4 = 28\n",
            "7 * 5 = 35\n",
            "7 * 6 = 42\n",
            "7 * 7 = 49\n",
            "7 * 8 = 56\n",
            "7 * 9 = 63\n",
            "7 * 10 = 70\n"
          ]
        }
      ]
    },
    {
      "cell_type": "code",
      "source": [
        "for i in range(1, 11):\n",
        "  print(9, \"*\", i, \"=\", i*9)"
      ],
      "metadata": {
        "colab": {
          "base_uri": "https://localhost:8080/"
        },
        "id": "XBVLPGQ5Bs5X",
        "outputId": "aefd3d39-3616-4fd1-d4b2-3a197332da9b"
      },
      "execution_count": null,
      "outputs": [
        {
          "output_type": "stream",
          "name": "stdout",
          "text": [
            "9 * 1 = 9\n",
            "9 * 2 = 18\n",
            "9 * 3 = 27\n",
            "9 * 4 = 36\n",
            "9 * 5 = 45\n",
            "9 * 6 = 54\n",
            "9 * 7 = 63\n",
            "9 * 8 = 72\n",
            "9 * 9 = 81\n",
            "9 * 10 = 90\n"
          ]
        }
      ]
    },
    {
      "cell_type": "code",
      "source": [
        "n = int(input(\"Enter a Number: \"))\n",
        "for i in range(1, 11):\n",
        "  print(12, \"*\", i, \"=\", i*n)"
      ],
      "metadata": {
        "colab": {
          "base_uri": "https://localhost:8080/"
        },
        "id": "wOpVGexEB0AE",
        "outputId": "81afc200-970a-4642-c609-ca5b61c1c039"
      },
      "execution_count": null,
      "outputs": [
        {
          "output_type": "stream",
          "name": "stdout",
          "text": [
            "Enter a Number: 12\n",
            "12 * 1 = 12\n",
            "12 * 2 = 24\n",
            "12 * 3 = 36\n",
            "12 * 4 = 48\n",
            "12 * 5 = 60\n",
            "12 * 6 = 72\n",
            "12 * 7 = 84\n",
            "12 * 8 = 96\n",
            "12 * 9 = 108\n",
            "12 * 10 = 120\n"
          ]
        }
      ]
    },
    {
      "cell_type": "code",
      "source": [
        "n = int(input(\"Enter a Number: \"))\n",
        "s = 0\n",
        "for i in range(1, n):\n",
        "  s += i\n",
        "print(s)"
      ],
      "metadata": {
        "colab": {
          "base_uri": "https://localhost:8080/"
        },
        "id": "H6ee2u_BF7f7",
        "outputId": "82d01a24-cf0d-4eb7-d81f-d2d81a65897a"
      },
      "execution_count": null,
      "outputs": [
        {
          "output_type": "stream",
          "name": "stdout",
          "text": [
            "Enter a Number: 6\n",
            "1\n",
            "2\n",
            "3\n",
            "4\n",
            "5\n",
            "15\n"
          ]
        }
      ]
    },
    {
      "cell_type": "code",
      "source": [
        "# 4.3: Prime Number\n",
        "n = int(input(\"Enter The Number for Checking: \"))\n",
        "p = 0\n",
        "for i in range(2, n//2 +1):\n",
        "  if n % i == 0:\n",
        "    p = 1\n",
        "    break\n",
        "\n",
        "if p == 0:\n",
        "  print(\"Prime\")\n",
        "else:\n",
        "  print(\"Not Prime\")"
      ],
      "metadata": {
        "colab": {
          "base_uri": "https://localhost:8080/"
        },
        "id": "7hWmJrHSHn-x",
        "outputId": "d35e94a2-a217-485b-8d6e-e953fd6cfc97"
      },
      "execution_count": null,
      "outputs": [
        {
          "output_type": "stream",
          "name": "stdout",
          "text": [
            "Enter The Number for Checking: 6\n",
            "Not Prime\n"
          ]
        }
      ]
    },
    {
      "cell_type": "code",
      "source": [
        "n = int(input(\"Enter the Number for Checking: \"))\n",
        "p = 0\n",
        "for i in range(2, n):\n",
        "  if n % i == 0:\n",
        "    p = 1\n",
        "    break\n",
        "\n",
        "if p == 0:\n",
        "  print(\"Prime\")\n",
        "else:\n",
        "  print(\"Not Prime\")"
      ],
      "metadata": {
        "colab": {
          "base_uri": "https://localhost:8080/"
        },
        "id": "koqSZ7RXJjCu",
        "outputId": "7135e25a-1921-460f-f1fb-c782abc6c431"
      },
      "execution_count": null,
      "outputs": [
        {
          "output_type": "stream",
          "name": "stdout",
          "text": [
            "Enter the Number for Checking: 3\n",
            "Prime\n"
          ]
        }
      ]
    },
    {
      "cell_type": "code",
      "source": [
        "## 4.4 Fibonacci Series\n",
        "n = 10\n",
        "a = 0\n",
        "b = 1\n",
        "\n",
        "print(a)\n",
        "print(b)\n",
        "for i in range(n):\n",
        "  c = a + b\n",
        "  print(c)\n",
        "  a = b\n",
        "  b = c"
      ],
      "metadata": {
        "colab": {
          "base_uri": "https://localhost:8080/"
        },
        "id": "mlAG6Wt0MavW",
        "outputId": "6721ecdb-a333-4fa4-8c75-0ad128985677"
      },
      "execution_count": null,
      "outputs": [
        {
          "output_type": "stream",
          "name": "stdout",
          "text": [
            "0\n",
            "1\n",
            "1\n",
            "2\n",
            "3\n",
            "5\n",
            "8\n",
            "13\n",
            "21\n",
            "34\n",
            "55\n",
            "89\n"
          ]
        }
      ]
    },
    {
      "cell_type": "code",
      "source": [
        "# factorial"
      ],
      "metadata": {
        "id": "eEs6ZwDENCJK"
      },
      "execution_count": null,
      "outputs": []
    },
    {
      "cell_type": "code",
      "source": [
        "n = int(input(\"enter a number: \"))\n",
        "factorial = 1\n",
        "\n",
        "for i in range(1, n+1):\n",
        "  factorial *= i\n",
        "print(\"Factorial is :\", factorial)"
      ],
      "metadata": {
        "colab": {
          "base_uri": "https://localhost:8080/"
        },
        "id": "cbkDMtvscsSu",
        "outputId": "166a8da0-92d0-4fd2-8aeb-c4e1f06dc222"
      },
      "execution_count": null,
      "outputs": [
        {
          "output_type": "stream",
          "name": "stdout",
          "text": [
            "enter a number: 6\n",
            "Factorial is : 720\n"
          ]
        }
      ]
    },
    {
      "cell_type": "code",
      "source": [
        "def isPrime(n):\n",
        "  for i in range(2, n // 2 + 1):\n",
        "    if n % i == 0:\n",
        "      return 0\n",
        "  return 1\n",
        "\n",
        "print(isPrime(11))\n",
        "print(isPrime(8))"
      ],
      "metadata": {
        "colab": {
          "base_uri": "https://localhost:8080/"
        },
        "id": "qlHJTcvZdPcC",
        "outputId": "35b038fd-d6ff-497f-a7fe-6d63d7f72ccc"
      },
      "execution_count": null,
      "outputs": [
        {
          "output_type": "stream",
          "name": "stdout",
          "text": [
            "1\n",
            "0\n"
          ]
        }
      ]
    },
    {
      "cell_type": "code",
      "source": [
        "def Odd_no_sum(n):\n",
        "  s = 0\n",
        "  for i in range(1, n+1):\n",
        "    if i % 2 != 0:\n",
        "      s += i\n",
        "  return s\n",
        "\n",
        "n = int(input(\"Enter a Number: \"))\n",
        "result = Odd_no_sum(n)\n",
        "print(f\"The Sum of Odd Number is: {result}\")"
      ],
      "metadata": {
        "colab": {
          "base_uri": "https://localhost:8080/"
        },
        "id": "gNEuhswkecb_",
        "outputId": "856c9a82-2468-4da6-c9dc-1bb7a25c1176"
      },
      "execution_count": null,
      "outputs": [
        {
          "output_type": "stream",
          "name": "stdout",
          "text": [
            "Enter a Number: 11\n",
            "The Sum of Odd Number is: 36\n"
          ]
        }
      ]
    },
    {
      "cell_type": "code",
      "source": [
        "def Even_num_sum(n):\n",
        "  s = 0\n",
        "  for i in range(1, n+1):\n",
        "    if i % 2 == 0:\n",
        "      s += i\n",
        "  return s\n",
        "\n",
        "n = int(input(\"Enter a Number: \"))\n",
        "result1 = Even_num_sum(n)\n",
        "print(f\"The Sum of Even Number is: {result1}\")"
      ],
      "metadata": {
        "colab": {
          "base_uri": "https://localhost:8080/"
        },
        "id": "92QBCCx9gDcO",
        "outputId": "0b0431c7-a5bd-475b-b746-07027e7d5410"
      },
      "execution_count": null,
      "outputs": [
        {
          "output_type": "stream",
          "name": "stdout",
          "text": [
            "Enter a Number: 8\n",
            "The Sum of Even Number is: 20\n"
          ]
        }
      ]
    },
    {
      "cell_type": "code",
      "source": [
        "def is_prime(num):\n",
        "    if num < 2:\n",
        "        return False\n",
        "    for i in range(2, num):\n",
        "        if num % i == 0:\n",
        "            return False\n",
        "    return True\n",
        "\n",
        "n = int(input(\"Enter a number: \"))\n",
        "total = 0\n",
        "for num in range(2, n+1):\n",
        "    if is_prime(num):\n",
        "        total += num\n",
        "print(\"The sum of all prime numbers from 1 to\", n, \"is\", total)"
      ],
      "metadata": {
        "colab": {
          "base_uri": "https://localhost:8080/"
        },
        "id": "GKyfNo43lAt0",
        "outputId": "c4b12928-4bff-436a-e3c1-6ff81cfaaac1"
      },
      "execution_count": null,
      "outputs": [
        {
          "output_type": "stream",
          "name": "stdout",
          "text": [
            "Enter a number: 7\n",
            "The sum of all prime numbers from 1 to 7 is 17\n"
          ]
        }
      ]
    },
    {
      "cell_type": "code",
      "source": [
        "def is_prime(n):\n",
        "  for i in range(2, n//2 + 1):\n",
        "    if n % i  == 0:\n",
        "      return 0\n",
        "  return 1\n",
        "\n",
        "n = int(input(\"enter a number: \"))\n",
        "sum = 0\n",
        "for num in range(2, n+1):\n",
        "  if is_prime(num):\n",
        "    sum += num\n",
        "print(f\"The Sum of all Prime Numbers from 1 to {n}, is: {sum}\")"
      ],
      "metadata": {
        "colab": {
          "base_uri": "https://localhost:8080/"
        },
        "id": "sznkt5lto-4s",
        "outputId": "19b9441f-3b29-4010-8b85-c4dacf103670"
      },
      "execution_count": null,
      "outputs": [
        {
          "output_type": "stream",
          "name": "stdout",
          "text": [
            "enter a number: 11\n",
            "The Sum of all Prime Numbers from 1 to 11, is: 28\n"
          ]
        }
      ]
    },
    {
      "cell_type": "code",
      "source": [
        "list = [1, 2, 3, 4, 5, 6, 7, 8, 9, 10]\n",
        "even_num = []\n",
        "odd_num = []\n",
        "\n",
        "for i in list:\n",
        "  if i % 2 == 0:\n",
        "    even_num.append(i)\n",
        "\n",
        "for i in list:\n",
        "  if i % 2 != 0:\n",
        "    odd_num.append(i)\n",
        "\n",
        "sum_of_even_num = 0\n",
        "for num in range(len(even_num)):\n",
        "  sum_of_even_num += even_num[num]\n",
        "print(sum_of_even_num)\n",
        "\n",
        "sum_of_odd_number = 0\n",
        "for num in range(len(odd_num)):\n",
        "  sum_of_odd_number += odd_num[num]\n",
        "print(sum_of_odd_number)"
      ],
      "metadata": {
        "colab": {
          "base_uri": "https://localhost:8080/"
        },
        "id": "X3_TdRPI56Gk",
        "outputId": "0ec900cb-e120-4e35-c216-980d52f811d9"
      },
      "execution_count": null,
      "outputs": [
        {
          "output_type": "stream",
          "name": "stdout",
          "text": [
            "30\n",
            "25\n"
          ]
        }
      ]
    },
    {
      "cell_type": "code",
      "source": [
        " ## Generate Random 6 digits otp"
      ],
      "metadata": {
        "id": "kVNTd2ij8FjL"
      },
      "execution_count": null,
      "outputs": []
    },
    {
      "cell_type": "code",
      "source": [
        "import string as s\n",
        "import random as r\n",
        "\n",
        "otp = r.sample(s.digits, 6)\n",
        "print(\"\")\n",
        "otp = \"\".join(otp)\n",
        "print(\"OTP: \", otp)"
      ],
      "metadata": {
        "colab": {
          "base_uri": "https://localhost:8080/"
        },
        "id": "vHffKePFF4qe",
        "outputId": "1d2ae94b-a021-4f8c-ea64-027c5639268a"
      },
      "execution_count": null,
      "outputs": [
        {
          "output_type": "stream",
          "name": "stdout",
          "text": [
            "\n",
            "OTP:  174083\n"
          ]
        }
      ]
    },
    {
      "cell_type": "code",
      "source": [
        "# 2: Exceptional Handeling\n",
        "# Run Time Error are known as Exception e.g. division by zero,file not found, etc"
      ],
      "metadata": {
        "id": "ZtcdcZeLGcX0"
      },
      "execution_count": null,
      "outputs": []
    },
    {
      "cell_type": "code",
      "source": [
        "# Division by Zero"
      ],
      "metadata": {
        "id": "iij0Nah8HrGl"
      },
      "execution_count": null,
      "outputs": []
    },
    {
      "cell_type": "code",
      "source": [
        "for i in range(-5, 6):\n",
        "  print(\"100/i\",i,\"=\", 100/i)"
      ],
      "metadata": {
        "colab": {
          "base_uri": "https://localhost:8080/",
          "height": 280
        },
        "id": "GVSZY3yTHzZl",
        "outputId": "b3c520d3-ed15-4d03-9f0a-bbc90781a8e7"
      },
      "execution_count": null,
      "outputs": [
        {
          "output_type": "stream",
          "name": "stdout",
          "text": [
            "100/i -5 = -20.0\n",
            "100/i -4 = -25.0\n",
            "100/i -3 = -33.333333333333336\n",
            "100/i -2 = -50.0\n",
            "100/i -1 = -100.0\n"
          ]
        },
        {
          "output_type": "error",
          "ename": "ZeroDivisionError",
          "evalue": "ignored",
          "traceback": [
            "\u001b[0;31m---------------------------------------------------------------------------\u001b[0m",
            "\u001b[0;31mZeroDivisionError\u001b[0m                         Traceback (most recent call last)",
            "\u001b[0;32m<ipython-input-9-28afeb3ce2b5>\u001b[0m in \u001b[0;36m<cell line: 1>\u001b[0;34m()\u001b[0m\n\u001b[1;32m      1\u001b[0m \u001b[0;32mfor\u001b[0m \u001b[0mi\u001b[0m \u001b[0;32min\u001b[0m \u001b[0mrange\u001b[0m\u001b[0;34m(\u001b[0m\u001b[0;34m-\u001b[0m\u001b[0;36m5\u001b[0m\u001b[0;34m,\u001b[0m \u001b[0;36m6\u001b[0m\u001b[0;34m)\u001b[0m\u001b[0;34m:\u001b[0m\u001b[0;34m\u001b[0m\u001b[0;34m\u001b[0m\u001b[0m\n\u001b[0;32m----> 2\u001b[0;31m   \u001b[0mprint\u001b[0m\u001b[0;34m(\u001b[0m\u001b[0;34m\"100/i\"\u001b[0m\u001b[0;34m,\u001b[0m\u001b[0mi\u001b[0m\u001b[0;34m,\u001b[0m\u001b[0;34m\"=\"\u001b[0m\u001b[0;34m,\u001b[0m \u001b[0;36m100\u001b[0m\u001b[0;34m/\u001b[0m\u001b[0mi\u001b[0m\u001b[0;34m)\u001b[0m\u001b[0;34m\u001b[0m\u001b[0;34m\u001b[0m\u001b[0m\n\u001b[0m",
            "\u001b[0;31mZeroDivisionError\u001b[0m: division by zero"
          ]
        }
      ]
    },
    {
      "cell_type": "code",
      "source": [
        "for i in range(-5, 6):\n",
        "  try:\n",
        "    print(\"100/i\",i,\"=\", 100/i)\n",
        "  except:\n",
        "    print(\"error\")"
      ],
      "metadata": {
        "colab": {
          "base_uri": "https://localhost:8080/"
        },
        "id": "DFZXCO4HIJHJ",
        "outputId": "4c68885e-d745-40b5-abed-92c2fe422a64"
      },
      "execution_count": null,
      "outputs": [
        {
          "output_type": "stream",
          "name": "stdout",
          "text": [
            "100/i -5 = -20.0\n",
            "100/i -4 = -25.0\n",
            "100/i -3 = -33.333333333333336\n",
            "100/i -2 = -50.0\n",
            "100/i -1 = -100.0\n",
            "error\n",
            "100/i 1 = 100.0\n",
            "100/i 2 = 50.0\n",
            "100/i 3 = 33.333333333333336\n",
            "100/i 4 = 25.0\n",
            "100/i 5 = 20.0\n"
          ]
        }
      ]
    },
    {
      "cell_type": "code",
      "source": [
        "## Name Error:"
      ],
      "metadata": {
        "id": "Czz1qnAFIkep"
      },
      "execution_count": null,
      "outputs": []
    },
    {
      "cell_type": "code",
      "source": [
        "print(\"x = \", x)"
      ],
      "metadata": {
        "colab": {
          "base_uri": "https://localhost:8080/",
          "height": 171
        },
        "id": "FrChSQNUIyhx",
        "outputId": "466140a1-c04a-484b-a339-1129b9228a2f"
      },
      "execution_count": null,
      "outputs": [
        {
          "output_type": "error",
          "ename": "NameError",
          "evalue": "ignored",
          "traceback": [
            "\u001b[0;31m---------------------------------------------------------------------------\u001b[0m",
            "\u001b[0;31mNameError\u001b[0m                                 Traceback (most recent call last)",
            "\u001b[0;32m<ipython-input-12-189b4fb9adac>\u001b[0m in \u001b[0;36m<cell line: 1>\u001b[0;34m()\u001b[0m\n\u001b[0;32m----> 1\u001b[0;31m \u001b[0mprint\u001b[0m\u001b[0;34m(\u001b[0m\u001b[0;34m\"x = \"\u001b[0m\u001b[0;34m,\u001b[0m \u001b[0mx\u001b[0m\u001b[0;34m)\u001b[0m\u001b[0;34m\u001b[0m\u001b[0;34m\u001b[0m\u001b[0m\n\u001b[0m",
            "\u001b[0;31mNameError\u001b[0m: name 'x' is not defined"
          ]
        }
      ]
    },
    {
      "cell_type": "code",
      "source": [
        "try:\n",
        "  print(\"x = \", x)\n",
        "except:\n",
        "  print(\"Exception Occured x is not defined\")"
      ],
      "metadata": {
        "colab": {
          "base_uri": "https://localhost:8080/"
        },
        "id": "HsPMIWtOI4nh",
        "outputId": "530f6004-d795-4218-e7ed-d7e62c500d93"
      },
      "execution_count": null,
      "outputs": [
        {
          "output_type": "stream",
          "name": "stdout",
          "text": [
            "Exception Occured x is not defined\n"
          ]
        }
      ]
    },
    {
      "cell_type": "code",
      "source": [
        "## Variable not Defined"
      ],
      "metadata": {
        "id": "psdmPL20JHqq"
      },
      "execution_count": null,
      "outputs": []
    },
    {
      "cell_type": "code",
      "source": [
        "try:\n",
        "  print(\"x = \", x)\n",
        "except NameError:\n",
        "  print(\"Variable x is not defined\")\n",
        "except:\n",
        "  print(\"Something Else Went Wrong\")"
      ],
      "metadata": {
        "colab": {
          "base_uri": "https://localhost:8080/"
        },
        "id": "K5HmFyG8JREV",
        "outputId": "53e7c883-5bc8-4932-9dfc-283c9488f46f"
      },
      "execution_count": null,
      "outputs": [
        {
          "output_type": "stream",
          "name": "stdout",
          "text": [
            "Variable x is not defined\n"
          ]
        }
      ]
    },
    {
      "cell_type": "code",
      "source": [
        "## Exception Handeling: else without if\n",
        "# The Try block does not raise any error, so the else block is executed:\n",
        "\n",
        "try:\n",
        "  print(\"Hello\")\n",
        "except:\n",
        "  print(\"Something went Worng\")\n",
        "else:\n",
        "  print(\"Nothing went worng\")"
      ],
      "metadata": {
        "colab": {
          "base_uri": "https://localhost:8080/"
        },
        "id": "JTh9z-9_JkhC",
        "outputId": "91ce78df-0695-4967-8511-5a8d5d3d89b2"
      },
      "execution_count": null,
      "outputs": [
        {
          "output_type": "stream",
          "name": "stdout",
          "text": [
            "Hello\n",
            "Nothing went worng\n"
          ]
        }
      ]
    },
    {
      "cell_type": "code",
      "source": [
        "try:\n",
        "  print(100/0)\n",
        "except:\n",
        "  print(\"Something went Worng\")\n",
        "else:\n",
        "  print(\"Nothing went worng\")"
      ],
      "metadata": {
        "colab": {
          "base_uri": "https://localhost:8080/"
        },
        "id": "YoNZlIeYKOrl",
        "outputId": "d585808e-df03-4ef6-8beb-50973598538c"
      },
      "execution_count": null,
      "outputs": [
        {
          "output_type": "stream",
          "name": "stdout",
          "text": [
            "Something went Worng\n"
          ]
        }
      ]
    },
    {
      "cell_type": "code",
      "source": [
        "# finally  block"
      ],
      "metadata": {
        "id": "IfYIfR8cKd6P"
      },
      "execution_count": null,
      "outputs": []
    },
    {
      "cell_type": "code",
      "source": [
        "try:\n",
        "  print(\"x = \", x)\n",
        "except:\n",
        "  print(\"something went wrong\")\n",
        "finally:\n",
        "  print(\"The 'try except' is finished\")"
      ],
      "metadata": {
        "colab": {
          "base_uri": "https://localhost:8080/"
        },
        "id": "eutzRnrxKh5I",
        "outputId": "58836452-4f51-4e5c-aef4-62aa2422b37a"
      },
      "execution_count": null,
      "outputs": [
        {
          "output_type": "stream",
          "name": "stdout",
          "text": [
            "something went wrong\n",
            "The 'try except' is finished\n"
          ]
        }
      ]
    },
    {
      "cell_type": "code",
      "source": [
        "# Exception handeling for array out of index"
      ],
      "metadata": {
        "id": "WUnK627UK0jy"
      },
      "execution_count": null,
      "outputs": []
    },
    {
      "cell_type": "code",
      "source": [
        "l = [1, 2, 3, 4, 5]\n",
        "for i in range(8):\n",
        "  try:\n",
        "    print(i, \"=\",l[i])\n",
        "  except:\n",
        "    print(\"error\")"
      ],
      "metadata": {
        "id": "vp9gvRM4LJ1S",
        "colab": {
          "base_uri": "https://localhost:8080/"
        },
        "outputId": "d40712f3-40f9-46ac-fc2b-4e45e7bfe904"
      },
      "execution_count": 22,
      "outputs": [
        {
          "output_type": "stream",
          "name": "stdout",
          "text": [
            "0 = 1\n",
            "1 = 2\n",
            "2 = 3\n",
            "3 = 4\n",
            "4 = 5\n",
            "error\n",
            "error\n",
            "error\n"
          ]
        }
      ]
    },
    {
      "cell_type": "code",
      "source": [
        "# Exceptional Handeling for file not found"
      ],
      "metadata": {
        "id": "IEIC6fZYOJO9"
      },
      "execution_count": 23,
      "outputs": []
    },
    {
      "cell_type": "code",
      "source": [
        "filename = input(\"Enter File Name: \")\n",
        "fp = open(filename)\n",
        "fp.close()\n",
        "print(\"Done\")"
      ],
      "metadata": {
        "colab": {
          "base_uri": "https://localhost:8080/",
          "height": 243
        },
        "id": "aXpxybMcOZ5o",
        "outputId": "590f7b46-787b-4f91-859e-751d738ead23"
      },
      "execution_count": 24,
      "outputs": [
        {
          "name": "stdout",
          "output_type": "stream",
          "text": [
            "Enter File Name: Shivam\n"
          ]
        },
        {
          "output_type": "error",
          "ename": "FileNotFoundError",
          "evalue": "ignored",
          "traceback": [
            "\u001b[0;31m---------------------------------------------------------------------------\u001b[0m",
            "\u001b[0;31mFileNotFoundError\u001b[0m                         Traceback (most recent call last)",
            "\u001b[0;32m<ipython-input-24-b42d1ebdb730>\u001b[0m in \u001b[0;36m<cell line: 2>\u001b[0;34m()\u001b[0m\n\u001b[1;32m      1\u001b[0m \u001b[0mfilename\u001b[0m \u001b[0;34m=\u001b[0m \u001b[0minput\u001b[0m\u001b[0;34m(\u001b[0m\u001b[0;34m\"Enter File Name: \"\u001b[0m\u001b[0;34m)\u001b[0m\u001b[0;34m\u001b[0m\u001b[0;34m\u001b[0m\u001b[0m\n\u001b[0;32m----> 2\u001b[0;31m \u001b[0mfp\u001b[0m \u001b[0;34m=\u001b[0m \u001b[0mopen\u001b[0m\u001b[0;34m(\u001b[0m\u001b[0mfilename\u001b[0m\u001b[0;34m)\u001b[0m\u001b[0;34m\u001b[0m\u001b[0;34m\u001b[0m\u001b[0m\n\u001b[0m\u001b[1;32m      3\u001b[0m \u001b[0mfp\u001b[0m\u001b[0;34m.\u001b[0m\u001b[0mclose\u001b[0m\u001b[0;34m(\u001b[0m\u001b[0;34m)\u001b[0m\u001b[0;34m\u001b[0m\u001b[0;34m\u001b[0m\u001b[0m\n\u001b[1;32m      4\u001b[0m \u001b[0mprint\u001b[0m\u001b[0;34m(\u001b[0m\u001b[0;34m\"Done\"\u001b[0m\u001b[0;34m)\u001b[0m\u001b[0;34m\u001b[0m\u001b[0;34m\u001b[0m\u001b[0m\n",
            "\u001b[0;31mFileNotFoundError\u001b[0m: [Errno 2] No such file or directory: 'Shivam'"
          ]
        }
      ]
    },
    {
      "cell_type": "code",
      "source": [
        "fileName = input(\"Enter File Name: \")\n",
        "try:\n",
        "  fp = open(fileName)\n",
        "  fp.close()\n",
        "except:\n",
        "  print(\"Error !! %s file not found\"%(fileName))\n",
        "\n",
        "print(\"Done\")"
      ],
      "metadata": {
        "colab": {
          "base_uri": "https://localhost:8080/"
        },
        "id": "NoCGJou0Ovl9",
        "outputId": "4a025822-1ef0-46d8-811f-7d284fda35f2"
      },
      "execution_count": 26,
      "outputs": [
        {
          "output_type": "stream",
          "name": "stdout",
          "text": [
            "Enter File Name: Shivam\n",
            "Error !! Shivam file not found\n",
            "Done\n"
          ]
        }
      ]
    },
    {
      "cell_type": "code",
      "source": [
        "# Add two numbers given by the user\n",
        "\n",
        "try:\n",
        "  a = int(input(\"Enter First Number: \"))\n",
        "  b = int(input(\"Enter Second Number: \"))\n",
        "  c = a + b\n",
        "  print(a, \"+\", b, \"=\", c)\n",
        "except:\n",
        "  print(\"\\nError !! a or b is not of int type !!\")"
      ],
      "metadata": {
        "colab": {
          "base_uri": "https://localhost:8080/"
        },
        "id": "KpgjK4aDPuRk",
        "outputId": "a11c0b5c-f79e-463f-df51-7a24c701b827"
      },
      "execution_count": 27,
      "outputs": [
        {
          "output_type": "stream",
          "name": "stdout",
          "text": [
            "Enter First Number: w\n",
            "\n",
            "Error !! a or b is not of int type !!\n"
          ]
        }
      ]
    },
    {
      "cell_type": "code",
      "source": [
        "try:\n",
        "  a = int(input(\"Enter First Number: \"))\n",
        "except:\n",
        "  print(\"\\nError !! a is not of int type !!\")\n",
        "  exit(0)\n",
        "\n",
        "try:\n",
        "  b = int(input(\"Enter Second Number: \"))\n",
        "except:\n",
        "  print(\"\\nError !! a is not of int type !!\")\n",
        "  exit(0)\n",
        "\n",
        "c = a + b\n",
        "print(a, \"+\", b, \"=\", c)"
      ],
      "metadata": {
        "colab": {
          "base_uri": "https://localhost:8080/",
          "height": 298
        },
        "id": "wTWHLvf7Q7TX",
        "outputId": "10621e41-91af-4ed5-a3a1-9c0232fbc690"
      },
      "execution_count": 28,
      "outputs": [
        {
          "name": "stdout",
          "output_type": "stream",
          "text": [
            "Enter First Number: w\n",
            "\n",
            "Error !! a is not of int type !!\n",
            "Enter Second Number: 4\n"
          ]
        },
        {
          "output_type": "error",
          "ename": "NameError",
          "evalue": "ignored",
          "traceback": [
            "\u001b[0;31m---------------------------------------------------------------------------\u001b[0m",
            "\u001b[0;31mNameError\u001b[0m                                 Traceback (most recent call last)",
            "\u001b[0;32m<ipython-input-28-6cf392cdaee3>\u001b[0m in \u001b[0;36m<cell line: 13>\u001b[0;34m()\u001b[0m\n\u001b[1;32m     11\u001b[0m   \u001b[0mexit\u001b[0m\u001b[0;34m(\u001b[0m\u001b[0;36m0\u001b[0m\u001b[0;34m)\u001b[0m\u001b[0;34m\u001b[0m\u001b[0;34m\u001b[0m\u001b[0m\n\u001b[1;32m     12\u001b[0m \u001b[0;34m\u001b[0m\u001b[0m\n\u001b[0;32m---> 13\u001b[0;31m \u001b[0mc\u001b[0m \u001b[0;34m=\u001b[0m \u001b[0ma\u001b[0m \u001b[0;34m+\u001b[0m \u001b[0mb\u001b[0m\u001b[0;34m\u001b[0m\u001b[0;34m\u001b[0m\u001b[0m\n\u001b[0m\u001b[1;32m     14\u001b[0m \u001b[0mprint\u001b[0m\u001b[0;34m(\u001b[0m\u001b[0ma\u001b[0m\u001b[0;34m,\u001b[0m \u001b[0;34m\"+\"\u001b[0m\u001b[0;34m,\u001b[0m \u001b[0mb\u001b[0m\u001b[0;34m,\u001b[0m \u001b[0;34m\"=\"\u001b[0m\u001b[0;34m,\u001b[0m \u001b[0mc\u001b[0m\u001b[0;34m)\u001b[0m\u001b[0;34m\u001b[0m\u001b[0;34m\u001b[0m\u001b[0m\n",
            "\u001b[0;31mNameError\u001b[0m: name 'a' is not defined"
          ]
        }
      ]
    },
    {
      "cell_type": "code",
      "source": [
        "# Raise Exception 1"
      ],
      "metadata": {
        "id": "BeaT02OLRuRs"
      },
      "execution_count": 1,
      "outputs": []
    },
    {
      "cell_type": "code",
      "source": [
        "x = -1\n",
        "if x < 0:\n",
        "  raise Exception(\"Sorry, no numbers below Zero\")"
      ],
      "metadata": {
        "colab": {
          "base_uri": "https://localhost:8080/",
          "height": 207
        },
        "id": "-i2bWirxSNv9",
        "outputId": "1a0a96e1-1432-4625-d392-7ed43cc844fe"
      },
      "execution_count": 2,
      "outputs": [
        {
          "output_type": "error",
          "ename": "Exception",
          "evalue": "ignored",
          "traceback": [
            "\u001b[0;31m---------------------------------------------------------------------------\u001b[0m",
            "\u001b[0;31mException\u001b[0m                                 Traceback (most recent call last)",
            "\u001b[0;32m<ipython-input-2-98bf51c180ad>\u001b[0m in \u001b[0;36m<cell line: 2>\u001b[0;34m()\u001b[0m\n\u001b[1;32m      1\u001b[0m \u001b[0mx\u001b[0m \u001b[0;34m=\u001b[0m \u001b[0;34m-\u001b[0m\u001b[0;36m1\u001b[0m\u001b[0;34m\u001b[0m\u001b[0;34m\u001b[0m\u001b[0m\n\u001b[1;32m      2\u001b[0m \u001b[0;32mif\u001b[0m \u001b[0mx\u001b[0m \u001b[0;34m<\u001b[0m \u001b[0;36m0\u001b[0m\u001b[0;34m:\u001b[0m\u001b[0;34m\u001b[0m\u001b[0;34m\u001b[0m\u001b[0m\n\u001b[0;32m----> 3\u001b[0;31m   \u001b[0;32mraise\u001b[0m \u001b[0mException\u001b[0m\u001b[0;34m(\u001b[0m\u001b[0;34m\"Sorry, no numbers below Zero\"\u001b[0m\u001b[0;34m)\u001b[0m\u001b[0;34m\u001b[0m\u001b[0;34m\u001b[0m\u001b[0m\n\u001b[0m",
            "\u001b[0;31mException\u001b[0m: Sorry, no numbers below Zero"
          ]
        }
      ]
    },
    {
      "cell_type": "code",
      "source": [
        "x = \"Hello\"\n",
        "\n",
        "if type(x) is not int:\n",
        "  raise TypeError(\"Only Integers are allowed\")"
      ],
      "metadata": {
        "colab": {
          "base_uri": "https://localhost:8080/",
          "height": 207
        },
        "id": "BILDM5dgSaZf",
        "outputId": "50b0560a-82bf-42e7-d6e3-dbd2109231cf"
      },
      "execution_count": 4,
      "outputs": [
        {
          "output_type": "error",
          "ename": "TypeError",
          "evalue": "ignored",
          "traceback": [
            "\u001b[0;31m---------------------------------------------------------------------------\u001b[0m",
            "\u001b[0;31mTypeError\u001b[0m                                 Traceback (most recent call last)",
            "\u001b[0;32m<ipython-input-4-abea5b1b3233>\u001b[0m in \u001b[0;36m<cell line: 3>\u001b[0;34m()\u001b[0m\n\u001b[1;32m      2\u001b[0m \u001b[0;34m\u001b[0m\u001b[0m\n\u001b[1;32m      3\u001b[0m \u001b[0;32mif\u001b[0m \u001b[0mtype\u001b[0m\u001b[0;34m(\u001b[0m\u001b[0mx\u001b[0m\u001b[0;34m)\u001b[0m \u001b[0;32mis\u001b[0m \u001b[0;32mnot\u001b[0m \u001b[0mint\u001b[0m\u001b[0;34m:\u001b[0m\u001b[0;34m\u001b[0m\u001b[0;34m\u001b[0m\u001b[0m\n\u001b[0;32m----> 4\u001b[0;31m   \u001b[0;32mraise\u001b[0m \u001b[0mTypeError\u001b[0m\u001b[0;34m(\u001b[0m\u001b[0;34m\"Only Integers are allowed\"\u001b[0m\u001b[0;34m)\u001b[0m\u001b[0;34m\u001b[0m\u001b[0;34m\u001b[0m\u001b[0m\n\u001b[0m",
            "\u001b[0;31mTypeError\u001b[0m: Only Integers are allowed"
          ]
        }
      ]
    },
    {
      "cell_type": "code",
      "source": [],
      "metadata": {
        "id": "3maflNH6SvuE"
      },
      "execution_count": null,
      "outputs": []
    }
  ]
}